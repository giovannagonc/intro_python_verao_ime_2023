{
 "cells": [
  {
   "cell_type": "markdown",
   "metadata": {
    "collapsed": true,
    "pycharm": {
     "name": "#%% md\n"
    }
   },
   "source": [
    "## Exercícios - Aula 01"
   ]
  },
  {
   "cell_type": "code",
   "execution_count": null,
   "metadata": {
    "vscode": {
     "languageId": "plaintext"
    }
   },
   "outputs": [],
   "source": [
    "#Exercício 1\n",
    "segredo = 5\n",
    "chute = int(input(\"Chute um numero: \"))\n",
    "if chute==segredo:\n",
    "    print(\"na mosca\")\n",
    "elif chute > segredo:\n",
    "    print(\"muito maior\")\n",
    "else:\n",
    "    print(\"muito menor\")"
   ]
  },
  {
   "cell_type": "code",
   "execution_count": null,
   "metadata": {
    "vscode": {
     "languageId": "plaintext"
    }
   },
   "outputs": [],
   "source": [
    "#Exercício 2\n",
    "idade = int(input(\"Insira sua idade: \"))\n",
    "if idade < 2:\n",
    "    print(\"você ainda é um bebê\")\n",
    "elif (idade >= 2 and idade < 4):\n",
    "    print(\"você é uma criança\")\n",
    "elif (idade >= 4 and idade < 13):\n",
    "    print(\"você é um garoto\")\n",
    "elif (idade >= 13 and idade < 20):\n",
    "    print(\"você é um adolescente\")\n",
    "elif (idade >= 20 and idade < 65):\n",
    "    print(\"você é um adulto\")\n",
    "else:\n",
    "    print(\"você é um idoso\")"
   ]
  },
  {
   "cell_type": "code",
   "execution_count": null,
   "metadata": {
    "vscode": {
     "languageId": "plaintext"
    }
   },
   "outputs": [],
   "source": [
    "#Exercício 3\n",
    "usuarios = ['Arthur','Giovanna','Ivone','Antonella','Admin']\n",
    "for usuario in usuarios:\n",
    "    print(\"Olá \"+usuario+\", bem vindo!\")"
   ]
  },
  {
   "cell_type": "code",
   "execution_count": null,
   "metadata": {
    "vscode": {
     "languageId": "plaintext"
    }
   },
   "outputs": [],
   "source": [
    "#Exercício 4\n",
    "usuarios = ['Arthur','Giovanna','Ivone','Antonella','Admin']\n",
    "for usuario in usuarios:\n",
    "    print(\"Olá \"+usuario+\", bem vindo!\")\n",
    "usuarios.remove('Arthur')\n",
    "usuarios.remove('Giovanna')\n",
    "usuarios.remove('Ivone')\n",
    "usuarios.remove('Antonella')\n",
    "usuarios.remove('Admin')\n",
    "if usuarios == []:\n",
    "    print (\"Precisamos encontrar alguns usuários!\")"
   ]
  },
  {
   "cell_type": "code",
   "execution_count": null,
   "metadata": {
    "vscode": {
     "languageId": "plaintext"
    }
   },
   "outputs": [],
   "source": [
    "#Exercício 5\n",
    "current_users = ['Arthur','Giovanna','Ivone','Antonella','Rodrigo']\n",
    "new_users = ['Arthur','Giovanna','Marcelo','Felipe','Marcela']\n",
    "used = 0\n",
    "for new_user in new_users:\n",
    "    for current_user in current_users:\n",
    "        if new_user.upper() == current_user.upper():\n",
    "            print(\"Esse usuário já foi usado.\")\n",
    "            used = 1\n",
    "            break\n",
    "    if used == 0:\n",
    "        print(\"Esse usuário está disponível.\")\n",
    "    used = 0"
   ]
  },
  {
   "cell_type": "code",
   "execution_count": null,
   "metadata": {
    "vscode": {
     "languageId": "plaintext"
    }
   },
   "outputs": [],
   "source": [
    "#Exercício 6\n",
    "ordinais = (1,2,3,4,5,6,7,8,9)\n",
    "for num in ordinais:\n",
    "    if (num == 1):\n",
    "        print(\"\"+str(num)+\"st\")\n",
    "    elif (num == 2 or num == 3):\n",
    "        print(\"\"+str(num)+\"rd\")\n",
    "    else: \n",
    "        print(\"\"+str(num)+\"th\")"
   ]
  },
  {
   "cell_type": "markdown",
   "metadata": {
    "collapsed": false,
    "pycharm": {
     "name": "#%% md\n"
    }
   },
   "source": [
    "1) Escolha um número entre 1 e 10 e armazene ele numa variável chamada *segredo*. Escolha outro número entre 1 e 10 novamente e salve ele numa variável chamada *chute*. Depois, escreva testes condicionais usando *if*, *else* e *elif* para exibir a mensagem \"muito menor\" se *chute* é menor do que *segredo*, \"muito maior\" se *chute* é maior do que *segredo* e \"na mosca\" se *chute* for igual à *segredo*.\n",
    "\n",
    "2) Escreva uma cadeia de instrucões *if*-*elif*-*else* que determine o estágio da vida de uma pessoa. Defina um valor para a variável *idade* e então:\n",
    "- Se a pessoa tiver menos de 2 anos de idade, mostre uma mensagem dizendo que ela ainda é um bebê.\n",
    "- Se a pessoa tiver pelo menos 2 anos, mas menos de 4, mostre uma mensagem dizendo que ela é uma crianca.\n",
    "- Se a pessoa tiver pelo menos 4 anos, mas menos de 13, mostre uma mensagem dizendo que ela é um(a) goroto(a).\n",
    "- Se a pessoa tiver pelo menos 13 anos, mas menos de 20, mostre uma mensagem dizendo que ela é um(a) adolescente.\n",
    "- Se a pessoa tiver pelo menos 20 anos, mas menos de 65, mostre uma mensagem dizendo que ela é um(a) adulto(a).\n",
    "- Se a pessoa tiver 65 anos ou mais, mostre uma mensagem dizendo que ela é uma pessoa idosa.\n",
    "\n",
    "3) Crie uma lista com cinco ou mais nomes de usuários, incluindo o nome \"admin\". Suponha que você esteja escrevendo um código que exibirá uma saudacão a cada usuário depois que eles fizerem login em um site. Percorra a lista com um laco e mostre uma saudacão para cada usuário:\n",
    "- Se o nome do usuário for \"admin\", mostre uma saudacão especial, por exemplo, \"Olá admin, gostaria de ver o relatório de status?\"\n",
    "- Caso contrário, mostre a saudacão genérica, como \"Olá José, obrigado por fazer login novamente\".\n",
    "\n",
    "4) A partir do exercício anterior, modifique o código criado para acrescentar um teste if que verifica se a lista de usuarios está vazia.\n",
    "- Se a lista de usuários estiver vazia, mostre a mensagem \"Precisamos encontrar alguns usuários!\". Remova todos os nomes de usuários da lista e certifique-se de que essa mensagem aparecerá.\n",
    "\n",
    "5) Crie um programa que simule o modo como os sites garantem que todos tenham um nome de usuário único.\n",
    "- Crie uma lista chamada *current_users* com cinco ou mais nomes de usuários\n",
    "- Crie uma list chamada *new_users* com cinco nomes de usuários. Garanta que dois dos novos usuários também estejam na lista *current_users*\n",
    "- Percorra a lista *new_users* com um laco para ver se cada novo nome de usuário já foi usado. Em caso afirmativo, mostre uma mensagem afirmando que a pessoa deverá fornecer um novo nome. Se um usuário não foi usado, apresente uma mensagem dizendo que o nome do usuário está disponível.\n",
    "- Certifique-se de que sua comparacão não levará em conta as diferencas entre letras maiúsculas e minúsculas. Se \"Pedro\" foi usado, \"PEDRO\" não deverá ser aceito.\n",
    "\n",
    "6) Números ordinais indicam sua posicão em uma lista, por exemplo, 1st, 2nd, em inglês. A maioria dos números ordinais nessa língua termina com th, exceto, 1, 2 e 3.\n",
    "- Armazene os números de 1 a 9 em uma lista.\n",
    "- Pecorra essa lista com um laco.\n",
    "- Use uma cadeia de instrucões *if*-*elif*-*else* que exiba a terminacão apropriada para cada número ordinal. Sua saída deverá conter \"1st 2nd 3rd 4th 5th 6th 7th 8th 9th\" e cada resultado deve estar em uma linha separada\n"
   ]
  }
 ],
 "metadata": {
  "kernelspec": {
   "display_name": "Python 3",
   "language": "python",
   "name": "python3"
  },
  "language_info": {
   "codemirror_mode": {
    "name": "ipython",
    "version": 2
   },
   "file_extension": ".py",
   "mimetype": "text/x-python",
   "name": "python",
   "nbconvert_exporter": "python",
   "pygments_lexer": "ipython2",
   "version": "2.7.6"
  }
 },
 "nbformat": 4,
 "nbformat_minor": 0
}
